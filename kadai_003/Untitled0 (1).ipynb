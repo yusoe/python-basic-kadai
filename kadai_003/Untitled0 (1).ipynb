{
  "nbformat": 4,
  "nbformat_minor": 0,
  "metadata": {
    "colab": {
      "provenance": []
    },
    "kernelspec": {
      "name": "python3",
      "display_name": "Python 3"
    },
    "language_info": {
      "name": "python"
    }
  },
  "cells": [
    {
      "cell_type": "code",
      "source": [
        "# Numpyをインポートするコード\n",
        "import numpy as np\n",
        "\n",
        "# AとBの行列を格納する多次元配列\n",
        "A = np.array([[0, 1], [2, 3], [4, 5]])\n",
        "B = np.array([[0, 1, 2, 3], [4, 5, 6, 7]])\n",
        "\n",
        "# 行列の積を計算\n",
        "C = np.dot(A, B)\n",
        "\n",
        "# 計算結果を表示\n",
        "print(C)\n",
        "\n",
        "# 行列の要素の最大値\n",
        "max_value = np.max(C)\n",
        "print(max_value)\n"
      ],
      "metadata": {
        "colab": {
          "base_uri": "https://localhost:8080/"
        },
        "id": "AD1egLHQbTed",
        "outputId": "3c7bd853-dcd1-4bd1-caaa-89b84d235465"
      },
      "execution_count": 14,
      "outputs": [
        {
          "output_type": "stream",
          "name": "stdout",
          "text": [
            "[[ 4  5  6  7]\n",
            " [12 17 22 27]\n",
            " [20 29 38 47]]\n",
            "47\n"
          ]
        }
      ]
    }
  ]
}