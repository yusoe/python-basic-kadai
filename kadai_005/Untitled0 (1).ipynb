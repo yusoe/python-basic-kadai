{
  "nbformat": 4,
  "nbformat_minor": 0,
  "metadata": {
    "colab": {
      "provenance": []
    },
    "kernelspec": {
      "name": "python3",
      "display_name": "Python 3"
    },
    "language_info": {
      "name": "python"
    }
  },
  "cells": [
    {
      "cell_type": "code",
      "source": [
        "# no1\n",
        "top_side = 10\n",
        "bottom_side = 20\n",
        "height = 5\n",
        "answer = ((top_side + bottom_side) * height / 2)\n",
        "print(f\"(上辺{top_side}cm + 下辺{bottom_side}cm) × 高さ{height}cm ÷ 2 = {answer}cm²\")\n",
        "\n",
        "#no2\n",
        "top_side = 10\n",
        "bottom_side = 20\n",
        "height = 5\n",
        "print(f\"(上辺{top_side}cm + 下辺{bottom_side}cm) × 高さ{height}cm ÷ 2 = {(top_side + bottom_side) * height / 2}cm²\")\n"
      ],
      "metadata": {
        "colab": {
          "base_uri": "https://localhost:8080/"
        },
        "id": "xi1qajTmznwa",
        "outputId": "976937ae-e496-4720-a3f0-91449fbbe999"
      },
      "execution_count": null,
      "outputs": [
        {
          "output_type": "stream",
          "name": "stdout",
          "text": [
            "(上辺10cm + 下辺20cm) × 高さ5cm ÷ 2 = 75.0cm²\n",
            "(上辺10cm + 下辺20cm) × 高さ5cm ÷ 2 = 75.0cm²\n"
          ]
        }
      ]
    }
  ]
}