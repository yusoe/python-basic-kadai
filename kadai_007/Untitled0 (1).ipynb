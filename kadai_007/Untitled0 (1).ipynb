{
  "nbformat": 4,
  "nbformat_minor": 0,
  "metadata": {
    "colab": {
      "provenance": []
    },
    "kernelspec": {
      "name": "python3",
      "display_name": "Python 3"
    },
    "language_info": {
      "name": "python"
    }
  },
  "cells": [
    {
      "cell_type": "code",
      "source": [
        "array = [\"月曜は晴れです\", \"火曜日は雨です\", \"水曜日は晴れです\", \"木曜日は晴れです\", \"金曜日は曇りです\", \"土曜日は曇りのち雨です\", \"日曜日は雷雨です\"]\n",
        "# 3番目の要素である「水曜日は晴れです」を取り出して表示\n",
        "print(array[2])\n",
        "\n",
        "dictionary = {\"mon\":\"晴れ\", \"tue\":\"雨\", \"wed\":\"晴れ\", \"thu\":\"晴れ\", \"fri\":\"曇り\", \"sat\":\"曇りのち雨\", \"sun\":\"雷雨\"}\n",
        "# wedの天気予報を取り出して表示\n",
        "print(dictionary[\"wed\"])\n",
        "\n",
        "# wedの天気予報を取り出して「水曜日は晴れです」となるように表示\n",
        "print(\"水曜日は\" + dictionary[\"wed\"] + \"です\")"
      ],
      "metadata": {
        "colab": {
          "base_uri": "https://localhost:8080/"
        },
        "id": "ZAE7kdOmBNae",
        "outputId": "803b7dac-39a9-4fb1-da0d-cccf16ed911c"
      },
      "execution_count": 9,
      "outputs": [
        {
          "output_type": "stream",
          "name": "stdout",
          "text": [
            "水曜日は晴れです\n",
            "晴れ\n",
            "水曜日は晴れです\n"
          ]
        }
      ]
    }
  ]
}