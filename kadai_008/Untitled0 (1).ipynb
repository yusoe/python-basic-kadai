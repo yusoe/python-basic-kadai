{
  "nbformat": 4,
  "nbformat_minor": 0,
  "metadata": {
    "colab": {
      "provenance": []
    },
    "kernelspec": {
      "name": "python3",
      "display_name": "Python 3"
    },
    "language_info": {
      "name": "python"
    }
  },
  "cells": [
    {
      "cell_type": "code",
      "source": [
        "import random\n",
        "var = random.randint(1, 50)\n",
        "\n",
        "# ランダムで1～50までを表示\n",
        "print(var)\n",
        "\n",
        "if var/3 == int(var/3) and  var/5 == int(var/5):\n",
        "# 変数varが、3の倍数と5の倍数の両方に該当する場合は「FizzBuzz」を表示\n",
        "  print(\"FizzBuzz\")\n",
        "\n",
        "elif var/3 == int(var/3):\n",
        "# 変数varが、3の倍数の場合は「Fizz」を表示\n",
        "  print(\"Fizz\")\n",
        "\n",
        "elif var/5 == int(var/5):\n",
        "# 変数varが、5の倍数の場合は「Buzz」を表示\n",
        "  print(\"Buzz\")\n",
        "\n",
        "else:\n",
        "# どの場合にも該当しない場合は、変数varの値を表示\n",
        "  print(var)\n"
      ],
      "metadata": {
        "colab": {
          "base_uri": "https://localhost:8080/"
        },
        "id": "HJweY_lVsvlq",
        "outputId": "a20b8203-7e45-4dea-e860-00b03cc3d45c"
      },
      "execution_count": 184,
      "outputs": [
        {
          "output_type": "stream",
          "name": "stdout",
          "text": [
            "25\n",
            "Buzz\n"
          ]
        }
      ]
    }
  ]
}