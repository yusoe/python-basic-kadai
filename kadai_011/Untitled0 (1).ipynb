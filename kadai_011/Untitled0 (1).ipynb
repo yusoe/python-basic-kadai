{
  "nbformat": 4,
  "nbformat_minor": 0,
  "metadata": {
    "colab": {
      "provenance": []
    },
    "kernelspec": {
      "name": "python3",
      "display_name": "Python 3"
    },
    "language_info": {
      "name": "python"
    }
  },
  "cells": [
    {
      "cell_type": "code",
      "source": [
        "# for分で作成\n",
        "array = [\"水\",\"金\",\"地\",\"火\",\"木\",\"土\",\"天\",\"海\",\"冥\"]\n",
        "\n",
        "for abc in array:\n",
        "\n",
        "  # 配列arrayの値を1つずつ順番に出力\n",
        "    print(abc)\n",
        "\n",
        "for abc in array:\n",
        "\n",
        "  # 配列arrayの値を半角スペースを入れて1つずつ順番に出力\n",
        "    print(f\" {abc}\")"
      ],
      "metadata": {
        "colab": {
          "base_uri": "https://localhost:8080/"
        },
        "id": "mJm11_HCxiK0",
        "outputId": "6fc8832a-ab71-4058-feef-5d89750e916d"
      },
      "execution_count": 448,
      "outputs": [
        {
          "output_type": "stream",
          "name": "stdout",
          "text": [
            "水\n",
            "金\n",
            "地\n",
            "火\n",
            "木\n",
            "土\n",
            "天\n",
            "海\n",
            "冥\n",
            " 水\n",
            " 金\n",
            " 地\n",
            " 火\n",
            " 木\n",
            " 土\n",
            " 天\n",
            " 海\n",
            " 冥\n"
          ]
        }
      ]
    },
    {
      "cell_type": "code",
      "source": [
        "# while分で作成\n",
        "array = [\"水\",\"金\",\"地\",\"火\",\"木\",\"土\",\"天\",\"海\",\"冥\"]\n",
        "\n",
        "# カウンタ変数iを用意する\n",
        "i = 0\n",
        "\n",
        "# 変数i＜9まで繰り返す\n",
        "while i < 9:\n",
        "\n",
        "  # 配列arrayの値を1つずつ順番に出力\n",
        "  print(array[i])\n",
        "\n",
        "  # 変数iに1足して変数iに戻す\n",
        "  i = i + 1\n",
        "\n",
        "  # 変数i＝9になったら次の処理をする\n",
        "  if i == 9:\n",
        "\n",
        "    # カウンタ変数yを用意する\n",
        "    y = 0\n",
        "\n",
        "    # 変数y＜9まで繰り返す\n",
        "    while y < 9:\n",
        "\n",
        "      # 配列arrayの値を半角スペースを入れて1つずつ順番に出力\n",
        "      print(f\" {array[y]}\")\n",
        "\n",
        "      # 変数yに1足して変数iに戻す\n",
        "      y = y + 1"
      ],
      "metadata": {
        "colab": {
          "base_uri": "https://localhost:8080/"
        },
        "id": "I0ELrgMn0-ii",
        "outputId": "2ab1af99-49f7-43c8-b031-2cd3f7be4511"
      },
      "execution_count": 1,
      "outputs": [
        {
          "output_type": "stream",
          "name": "stdout",
          "text": [
            "水\n",
            "金\n",
            "地\n",
            "火\n",
            "木\n",
            "土\n",
            "天\n",
            "海\n",
            "冥\n",
            " 水\n",
            " 金\n",
            " 地\n",
            " 火\n",
            " 木\n",
            " 土\n",
            " 天\n",
            " 海\n",
            " 冥\n"
          ]
        }
      ]
    }
  ]
}