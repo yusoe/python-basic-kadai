{
  "nbformat": 4,
  "nbformat_minor": 0,
  "metadata": {
    "colab": {
      "provenance": []
    },
    "kernelspec": {
      "name": "python3",
      "display_name": "Python 3"
    },
    "language_info": {
      "name": "python"
    }
  },
  "cells": [
    {
      "cell_type": "code",
      "source": [],
      "metadata": {
        "id": "lTAZSBPYbmmN"
      },
      "execution_count": null,
      "outputs": []
    },
    {
      "cell_type": "code",
      "source": [
        "def add_two_arguments(Product_amount, consumption_tax):\n",
        "\n",
        "    # 与えられた引数Product_amountと引数consumption_taxを条算し、変数totalに代入する\n",
        "    total = Product_amount * consumption_tax + Product_amount\n",
        "\n",
        "    return total\n",
        "\n",
        "print(add_two_arguments(100, 0.10))\n",
        "\n",
        "\n"
      ],
      "metadata": {
        "colab": {
          "base_uri": "https://localhost:8080/"
        },
        "id": "9G7DQc5d8u1i",
        "outputId": "51691071-6648-406f-ac97-dbdb714433ac"
      },
      "execution_count": 19,
      "outputs": [
        {
          "output_type": "stream",
          "name": "stdout",
          "text": [
            "110.0\n"
          ]
        }
      ]
    }
  ]
}