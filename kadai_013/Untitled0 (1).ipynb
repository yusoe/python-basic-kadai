{
  "nbformat": 4,
  "nbformat_minor": 0,
  "metadata": {
    "colab": {
      "provenance": []
    },
    "kernelspec": {
      "name": "python3",
      "display_name": "Python 3"
    },
    "language_info": {
      "name": "python"
    }
  },
  "cells": [
    {
      "cell_type": "code",
      "source": [
        "def add_two_arguments(Product_amount, consumption_tax):\n",
        "\n",
        "    # 与えられた引数Product_amountと引数consumption_taxを条算し、変数totalに代入する\n",
        "    total = Product_amount * consumption_tax\n",
        "\n",
        "    # 変数$totalの値を出力する\n",
        "    print(f\"{total}円\")\n",
        "\n",
        "add_two_arguments(100, 1.1)\n"
      ],
      "metadata": {
        "colab": {
          "base_uri": "https://localhost:8080/"
        },
        "id": "TlkTnmRhmhm2",
        "outputId": "c65d03ff-a51f-44a8-9863-d824fb812df0"
      },
      "execution_count": 16,
      "outputs": [
        {
          "output_type": "stream",
          "name": "stdout",
          "text": [
            "110.00000000000001円\n"
          ]
        }
      ]
    }
  ]
}