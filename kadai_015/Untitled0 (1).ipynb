{
  "nbformat": 4,
  "nbformat_minor": 0,
  "metadata": {
    "colab": {
      "provenance": []
    },
    "kernelspec": {
      "name": "python3",
      "display_name": "Python 3"
    },
    "language_info": {
      "name": "python"
    }
  },
  "cells": [
    {
      "cell_type": "code",
      "source": [
        "class Human:\n",
        "# コンストラクタを定義\n",
        "  def __init__(self, name, age):\n",
        "    self.name = name\n",
        "    self.age = age\n",
        "\n",
        "# printinfoメソッドを定義\n",
        "  def printinfo(self):\n",
        "    print(\"名前:\", self.name)\n",
        "    print(\"年齢:\", self.age)\n",
        "\n",
        "# インスタンス化\n",
        "human = Human(\"太郎\", 35,)\n",
        "\n",
        "# printinfoメソッドにアクセス\n",
        "human.printinfo()\n"
      ],
      "metadata": {
        "colab": {
          "base_uri": "https://localhost:8080/"
        },
        "id": "2GxvEPY_HGvd",
        "outputId": "b5773a54-8c3d-48aa-f939-825df1f13d7e"
      },
      "execution_count": 72,
      "outputs": [
        {
          "output_type": "stream",
          "name": "stdout",
          "text": [
            "名前: 太郎\n",
            "年齢: 35\n"
          ]
        }
      ]
    }
  ]
}