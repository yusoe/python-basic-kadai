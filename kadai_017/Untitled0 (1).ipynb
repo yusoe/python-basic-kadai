{
  "nbformat": 4,
  "nbformat_minor": 0,
  "metadata": {
    "colab": {
      "provenance": []
    },
    "kernelspec": {
      "name": "python3",
      "display_name": "Python 3"
    },
    "language_info": {
      "name": "python"
    }
  },
  "cells": [
    {
      "cell_type": "code",
      "source": [
        "class Human:\n",
        "    def __init__(self, name, age):\n",
        "        self.name = name\n",
        "        self.age = age\n",
        "\n",
        "    def check_adult(self):\n",
        "        if self.age >= 20:\n",
        "            print(f\"{self.name}は大人です\")\n",
        "        else:\n",
        "            print(f\"{self.name}は大人ではないです\")\n",
        "\n",
        "name_age_list = [Human(\"太郎\", 35),Human(\"二郎\", 18),Human(\"花子\", 20),Human(\"三郎\", 5),]\n",
        "\n",
        "for person in name_age_list:\n",
        "    person.check_adult()"
      ],
      "metadata": {
        "colab": {
          "base_uri": "https://localhost:8080/"
        },
        "id": "9G7DQc5d8u1i",
        "outputId": "1ac0ffff-e758-4862-d6dd-d397a49843d4"
      },
      "execution_count": 13,
      "outputs": [
        {
          "output_type": "stream",
          "name": "stdout",
          "text": [
            "太郎は大人です\n",
            "二郎は大人ではないです\n",
            "花子は大人です\n",
            "三郎は大人ではないです\n"
          ]
        }
      ]
    }
  ]
}